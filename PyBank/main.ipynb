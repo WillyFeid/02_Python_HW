{
 "cells": [
  {
   "cell_type": "code",
   "execution_count": 3,
   "id": "mediterranean-range",
   "metadata": {},
   "outputs": [],
   "source": [
    "# Importing the necessary libraries for reading csv files:\n",
    "import os\n",
    "import csv"
   ]
  },
  {
   "cell_type": "code",
   "execution_count": 4,
   "id": "corresponding-cooperation",
   "metadata": {},
   "outputs": [],
   "source": [
    "# Set path for the csv file:\n",
    "budget_path = os.path.join(\"../PyBank/budget_data.csv\")"
   ]
  },
  {
   "cell_type": "code",
   "execution_count": 7,
   "id": "veterinary-composition",
   "metadata": {},
   "outputs": [],
   "source": [
    "# Setting Variables and Lists that will be used to calculate change:\n",
    "total_months = 0\n",
    "net_total = 0\n",
    "months_list = []\n",
    "profit_loss_list = []\n",
    "monthly_change_list = []"
   ]
  },
  {
   "cell_type": "code",
   "execution_count": 8,
   "id": "bacterial-transaction",
   "metadata": {},
   "outputs": [],
   "source": [
    "#Open csv as csvfile and putting contents in variable called budget_reader:\n",
    "with open('budget_data.csv', 'r') as csvfile:\n",
    "    budget_reader = csv.reader(csvfile)\n",
    "    \n",
    "    #skipping over the header with 'next' function to pass the first row:\n",
    "    next(budget_reader)\n",
    "    \n",
    "    #For loop through each row:\n",
    "    for row in budget_reader:\n",
    "        # Each row adds a value of '1' to the variable 'total_months':\n",
    "        total_months += 1\n",
    "        # Row[1] represents all of the profit/loss numbers. Using += to sum the numbers through the loop. Need to make this an integer.\n",
    "        net_total += int(row[1])\n",
    "        # Creating a list of all of the months:\n",
    "        months_list.append(row[0])\n",
    "        # This will give me one list for all of the values in profit/loss column. These are numbers so needs to be 'int':\n",
    "        profit_loss_list.append(int(row[1]))"
   ]
  },
  {
   "cell_type": "code",
   "execution_count": 9,
   "id": "chemical-junior",
   "metadata": {},
   "outputs": [],
   "source": [
    "    #Using 'i' and 'i+1' so the loop can essentiall subtract row[1] from row[0], then row[2] form row[1], \n",
    "    # and on and on until it gets to the final amount of values in the list.\n",
    "    for i in range(len(profit_loss_list)-1):\n",
    "            monthly_change = profit_loss_list[i+1] - profit_loss_list[i]\n",
    "            # This list will have all the value that represent the month-to-month change.\n",
    "            monthly_change_list.append(monthly_change)\n"
   ]
  },
  {
   "cell_type": "code",
   "execution_count": 39,
   "id": "collective-dairy",
   "metadata": {},
   "outputs": [],
   "source": [
    "#Find average change using sum and len functions:\n",
    "average_change = sum(monthly_change_list) / len(monthly_change_list)\n",
    "# In the 'monthly_change_list', we can find the min and max using min and max functions:\n",
    "max_increase_value = max(monthly_change_list)\n",
    "max_decrease_value = min(monthly_change_list)\n",
    "\n",
    "#Now we can use 'index.' to find which row month is associated with the value:\n",
    "max_increase_month = monthly_change_list.index(max_increase_value) \n",
    "max_decrease_month = monthly_change_list.index(max_decrease_value)"
   ]
  },
  {
   "cell_type": "code",
   "execution_count": 44,
   "id": "painted-copyright",
   "metadata": {},
   "outputs": [
    {
     "name": "stdout",
     "output_type": "stream",
     "text": [
      "Financial Analysis\n",
      "--------------------\n",
      "Total Months: 86\n",
      "Total: 38382578\n",
      "Average Change: $-2315.12\n",
      "Greatest Increase in Profits: Jan-2012 ($1926159)\n",
      "Greatest Decrease in Profits: Aug-2013 ($-2196167)\n"
     ]
    }
   ],
   "source": [
    "# Print the Summary:\n",
    "print(f\"Financial Analysis\")\n",
    "print(\"--------------------\")\n",
    "print(f\"Total Months: {total_months}\")\n",
    "print(f\"Total: {net_total}\")\n",
    "print(f\"Average Change: ${round(average_change, 2)}\")\n",
    "print(f\"Greatest Increase in Profits: {months_list[max_increase_month]} (${max_increase_value})\")\n",
    "print(f\"Greatest Decrease in Profits: {months_list[max_decrease_month]} (${max_decrease_value})\")"
   ]
  },
  {
   "cell_type": "code",
   "execution_count": null,
   "id": "loose-thirty",
   "metadata": {},
   "outputs": [],
   "source": []
  }
 ],
 "metadata": {
  "kernelspec": {
   "display_name": "Python 3",
   "language": "python",
   "name": "python3"
  },
  "language_info": {
   "codemirror_mode": {
    "name": "ipython",
    "version": 3
   },
   "file_extension": ".py",
   "mimetype": "text/x-python",
   "name": "python",
   "nbconvert_exporter": "python",
   "pygments_lexer": "ipython3",
   "version": "3.7.9"
  }
 },
 "nbformat": 4,
 "nbformat_minor": 5
}
