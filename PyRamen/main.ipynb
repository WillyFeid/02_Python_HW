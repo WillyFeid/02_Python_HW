{
 "cells": [
  {
   "cell_type": "code",
   "execution_count": 1,
   "id": "identified-revision",
   "metadata": {},
   "outputs": [],
   "source": [
    "# Importing the necessary libraries for reading csv files:\n",
    "import os\n",
    "import csv"
   ]
  },
  {
   "cell_type": "code",
   "execution_count": 2,
   "id": "personalized-passenger",
   "metadata": {},
   "outputs": [],
   "source": [
    "# Set path for the csv file:\n",
    "menu_data = os.path.join(\"../PyRamen/menu_data.csv\")"
   ]
  },
  {
   "cell_type": "code",
   "execution_count": 3,
   "id": "governing-stretch",
   "metadata": {},
   "outputs": [],
   "source": [
    "# Initialize an empty menu list object to hold the contents of menu_data.csv.\n",
    "menu_list = []"
   ]
  },
  {
   "cell_type": "code",
   "execution_count": 4,
   "id": "instant-tanzania",
   "metadata": {},
   "outputs": [],
   "source": [
    "#Use a with statement and open the menu_data.csv by using its file path.\n",
    "with open('menu_data.csv', 'r') as csvfile:\n",
    "    # Use the reader function from the csv library to begin reading menu_data.csv.\n",
    "    menu_reader = csv.reader(csvfile)\n",
    "    # Use the next function to skip the header (first row of the CSV).\n",
    "    next(menu_reader)\n",
    "    # Loop over the rest of the rows and append every row to the menu list object (the outcome will be a list of lists).\n",
    "    for row in menu_reader:\n",
    "        menu_list.append(row)"
   ]
  },
  {
   "cell_type": "code",
   "execution_count": 5,
   "id": "adolescent-season",
   "metadata": {},
   "outputs": [],
   "source": [
    "# Set up the same process to read in sales_data.csv. However, \n",
    "# instead append every row of the sales data to a new sales list object.\n",
    "sales_data = os.path.join(\"../PyRamen/sales_data.csv\")\n",
    "sales_list = []\n",
    "with open('sales_data.csv', 'r') as csvfile:\n",
    "    sales_reader = csv.reader(csvfile)\n",
    "    \n",
    "    next(sales_reader)\n",
    "    \n",
    "    for row in sales_reader:\n",
    "        sales_list.append(row)\n"
   ]
  },
  {
   "cell_type": "code",
   "execution_count": 6,
   "id": "crude-council",
   "metadata": {},
   "outputs": [],
   "source": [
    "# Initialize an empty report dictionary to hold the future aggregated per-product results. \n",
    "report_dict = {}"
   ]
  },
  {
   "cell_type": "code",
   "execution_count": 13,
   "id": "aware-script",
   "metadata": {},
   "outputs": [
    {
     "ename": "NameError",
     "evalue": "name 'sales_item' is not defined",
     "output_type": "error",
     "traceback": [
      "\u001b[0;31m---------------------------------------------------------------------------\u001b[0m",
      "\u001b[0;31mNameError\u001b[0m                                 Traceback (most recent call last)",
      "\u001b[0;32m<ipython-input-13-277afdd20d96>\u001b[0m in \u001b[0;36m<module>\u001b[0;34m\u001b[0m\n\u001b[1;32m      5\u001b[0m     \u001b[0mmenu_item\u001b[0m \u001b[0;34m=\u001b[0m \u001b[0mrow\u001b[0m\u001b[0;34m[\u001b[0m\u001b[0;36m4\u001b[0m\u001b[0;34m]\u001b[0m\u001b[0;34m\u001b[0m\u001b[0;34m\u001b[0m\u001b[0m\n\u001b[1;32m      6\u001b[0m \u001b[0;34m\u001b[0m\u001b[0m\n\u001b[0;32m----> 7\u001b[0;31m     \u001b[0;32mif\u001b[0m \u001b[0msales_item\u001b[0m \u001b[0;32mnot\u001b[0m \u001b[0;32min\u001b[0m \u001b[0mreport_dict\u001b[0m\u001b[0;34m.\u001b[0m\u001b[0mkeys\u001b[0m\u001b[0;34m(\u001b[0m\u001b[0;34m)\u001b[0m\u001b[0;34m:\u001b[0m\u001b[0;34m\u001b[0m\u001b[0;34m\u001b[0m\u001b[0m\n\u001b[0m\u001b[1;32m      8\u001b[0m             sales_item[name] = {\"01-count\": 0,\n\u001b[1;32m      9\u001b[0m \u001b[0;34m\"02-revenue\"\u001b[0m\u001b[0;34m:\u001b[0m \u001b[0;36m0\u001b[0m\u001b[0;34m,\u001b[0m\u001b[0;34m\u001b[0m\u001b[0;34m\u001b[0m\u001b[0m\n",
      "\u001b[0;31mNameError\u001b[0m: name 'sales_item' is not defined"
     ]
    }
   ],
   "source": [
    "# Loop through every row in the sales list object.\n",
    "for row in sales_list:\n",
    "    # For each row of the sales data, set the following columns of the sales data to their own variables: 'quantity', 'menu_item'\n",
    "    quantity = int(row[3])\n",
    "    menu_item = row[4]\n",
    "    \n",
    "    if sales_item not in report_dict.keys():\n",
    "            sales_item[name] = {\"01-count\": 0,\n",
    "\"02-revenue\": 0,\n",
    "\"03-cogs\": 0,\n",
    "\"04-profit\": 0,\n",
    "}\n",
    "    else:\n",
    "            sales_item[name][\"count\"] += count\n",
    "            sales_item[name][\"revenue\"] += revenue\n"
   ]
  },
  {
   "cell_type": "code",
   "execution_count": null,
   "id": "alien-timber",
   "metadata": {},
   "outputs": [],
   "source": []
  }
 ],
 "metadata": {
  "kernelspec": {
   "display_name": "Python 3",
   "language": "python",
   "name": "python3"
  },
  "language_info": {
   "codemirror_mode": {
    "name": "ipython",
    "version": 3
   },
   "file_extension": ".py",
   "mimetype": "text/x-python",
   "name": "python",
   "nbconvert_exporter": "python",
   "pygments_lexer": "ipython3",
   "version": "3.7.9"
  }
 },
 "nbformat": 4,
 "nbformat_minor": 5
}
